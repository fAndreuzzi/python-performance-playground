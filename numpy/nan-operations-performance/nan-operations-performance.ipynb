{
 "cells": [
  {
   "cell_type": "markdown",
   "id": "needed-california",
   "metadata": {},
   "source": [
    "## `np.nan` operations\n",
    "\n",
    "Do we get faster algebraic operations if the matrix contains blocks of `np.nan`?"
   ]
  },
  {
   "cell_type": "code",
   "execution_count": 1,
   "id": "productive-mystery",
   "metadata": {
    "execution": {
     "iopub.execute_input": "2022-10-17T00:17:33.901420Z",
     "iopub.status.busy": "2022-10-17T00:17:33.901002Z",
     "iopub.status.idle": "2022-10-17T00:17:33.956734Z",
     "shell.execute_reply": "2022-10-17T00:17:33.956162Z"
    }
   },
   "outputs": [],
   "source": [
    "import numpy as np"
   ]
  },
  {
   "cell_type": "code",
   "execution_count": 2,
   "id": "asian-coordination",
   "metadata": {
    "execution": {
     "iopub.execute_input": "2022-10-17T00:17:33.961138Z",
     "iopub.status.busy": "2022-10-17T00:17:33.959807Z",
     "iopub.status.idle": "2022-10-17T00:17:56.427409Z",
     "shell.execute_reply": "2022-10-17T00:17:56.426062Z"
    }
   },
   "outputs": [
    {
     "name": "stdout",
     "output_type": "stream",
     "text": [
      "13.8 ms ± 160 µs per loop (mean ± std. dev. of 7 runs, 100 loops each)\n",
      "13.7 ms ± 208 µs per loop (mean ± std. dev. of 7 runs, 100 loops each)\n"
     ]
    }
   ],
   "source": [
    "x = np.arange(1000000).reshape(-1, 2)\n",
    "\n",
    "y = np.vstack([x, np.full((500000, 2), np.nan)])\n",
    "%timeit y + 2 - np.array([2,20])[None]\n",
    "\n",
    "z = np.vstack([x, x])\n",
    "%timeit z + 2 - np.array([2,20])[None]"
   ]
  },
  {
   "cell_type": "markdown",
   "id": "handled-chassis",
   "metadata": {},
   "source": [
    "No."
   ]
  }
 ],
 "metadata": {
  "kernelspec": {
   "display_name": "Python 3",
   "language": "python",
   "name": "python3"
  },
  "language_info": {
   "codemirror_mode": {
    "name": "ipython",
    "version": 3
   },
   "file_extension": ".py",
   "mimetype": "text/x-python",
   "name": "python",
   "nbconvert_exporter": "python",
   "pygments_lexer": "ipython3",
   "version": "3.9.14"
  }
 },
 "nbformat": 4,
 "nbformat_minor": 5
}
