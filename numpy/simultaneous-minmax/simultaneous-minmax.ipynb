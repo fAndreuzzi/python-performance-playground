{
 "cells": [
  {
   "cell_type": "code",
   "execution_count": 52,
   "id": "failing-bangkok",
   "metadata": {},
   "outputs": [],
   "source": [
    "import numpy as np\n",
    "\n",
    "def minmax(x, axis=None):\n",
    "    axis_none = axis is None\n",
    "    \n",
    "    if axis_none:\n",
    "        x = x.flatten()[None]\n",
    "        axis = 1\n",
    "    \n",
    "    y = np.max(x[None, :, :] * np.array([-1, 1])[:, None, None], axis=axis+1)\n",
    "    y[0] *= -1\n",
    "    \n",
    "    if axis_none:\n",
    "        return y[:,0]\n",
    "    else:\n",
    "        return y.T\n",
    "\n",
    "def minmax2(x, axis=None):\n",
    "    return np.concatenate([np.min(x, axis=axis)[...,None], np.max(x, axis=axis)[...,None]], axis=axis)"
   ]
  },
  {
   "cell_type": "code",
   "execution_count": 58,
   "id": "tender-actress",
   "metadata": {},
   "outputs": [
    {
     "name": "stdout",
     "output_type": "stream",
     "text": [
      "9.2 ms ± 85 µs per loop (mean ± std. dev. of 7 runs, 100 loops each)\n",
      "1.48 ms ± 26.7 µs per loop (mean ± std. dev. of 7 runs, 1000 loops each)\n",
      "13.6 ms ± 86.7 µs per loop (mean ± std. dev. of 7 runs, 100 loops each)\n",
      "8.75 ms ± 35.6 µs per loop (mean ± std. dev. of 7 runs, 100 loops each)\n"
     ]
    }
   ],
   "source": [
    "x = np.arange(1000000).reshape(-1,10)\n",
    "\n",
    "%timeit minmax(x)\n",
    "%timeit minmax2(x)\n",
    "\n",
    "%timeit minmax(x, axis=1)\n",
    "%timeit minmax2(x, axis=1)"
   ]
  }
 ],
 "metadata": {
  "kernelspec": {
   "display_name": "Python 3",
   "language": "python",
   "name": "python3"
  },
  "language_info": {
   "codemirror_mode": {
    "name": "ipython",
    "version": 3
   },
   "file_extension": ".py",
   "mimetype": "text/x-python",
   "name": "python",
   "nbconvert_exporter": "python",
   "pygments_lexer": "ipython3",
   "version": "3.8.6"
  }
 },
 "nbformat": 4,
 "nbformat_minor": 5
}
